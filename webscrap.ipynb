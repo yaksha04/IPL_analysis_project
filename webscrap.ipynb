{
 "cells": [
  {
   "cell_type": "code",
   "execution_count": 3,
   "id": "4b249ad6-dbd6-4cfd-bec3-ef2568217404",
   "metadata": {},
   "outputs": [
    {
     "name": "stdout",
     "output_type": "stream",
     "text": [
      "Scraping completed! Data saved to ipl_highest_\n"
     ]
    }
   ],
   "source": [
    "from selenium import webdriver\n",
    "from selenium.webdriver.common.by import By\n",
    "import pandas as pd\n",
    "import time\n",
    "\n",
    "# Initialize WebDriver\n",
    "driver = webdriver.Chrome()\n",
    "driver.get(\"https://www.espncricinfo.com/records/trophy/team-highest-innings-totals/indian-premier-league-117\")\n",
    "time.sleep(5)  # Wait for the page to load\n",
    "\n",
    "# Locate table rows\n",
    "rows = driver.find_elements(By.XPATH, \"//table[contains(@class, 'ds-w-full')]//tbody/tr\")\n",
    "\n",
    "data = []\n",
    "for row in rows:\n",
    "    cols = row.find_elements(By.TAG_NAME, \"td\")\n",
    "    if len(cols) >= 4:\n",
    "        data.append([col.text.strip() for col in cols[:4]])\n",
    "\n",
    "# Close the driver\n",
    "driver.quit()\n",
    "\n",
    "# Save data to a CSV file\n",
    "df = pd.DataFrame(data, columns=[\"Team\", \"Score\", \"Overs\",\"RR\"])\n",
    "df.to_csv(\"ipl_highest_totals.csv\", index=False)\n",
    "\n",
    "print(\"Scraping completed! Data saved to ipl_highest_\")"
   ]
  },
  {
   "cell_type": "code",
   "execution_count": 45,
   "id": "37a5bf04-59d0-4b49-b7be-948f447995f0",
   "metadata": {},
   "outputs": [
    {
     "name": "stdout",
     "output_type": "stream",
     "text": [
      "Scraping completed! Data saved to cricket_results_2021.csv.\n"
     ]
    }
   ],
   "source": [
    "from selenium import webdriver\n",
    "from selenium.webdriver.common.by import By\n",
    "import pandas as pd\n",
    "import time\n",
    "\n",
    "# Initialize WebDriver\n",
    "driver = webdriver.Chrome()\n",
    "driver.get(\"https://www.espncricinfo.com/records/season/team-match-results/2020to21-2020to21?trophy=117\")\n",
    "time.sleep(5)  # Wait for the page to load\n",
    "\n",
    "# Locate table rows\n",
    "rows = driver.find_elements(By.XPATH, \"//table[contains(@class, 'ds-w-full')]//tbody/tr\")\n",
    "\n",
    "data = []\n",
    "for row in rows:\n",
    "    cols = row.find_elements(By.TAG_NAME, \"td\")\n",
    "    if len(cols) >= 4:\n",
    "        data.append([col.text.strip() for col in cols[:4]])\n",
    "\n",
    "# Close the driver\n",
    "driver.quit()\n",
    "\n",
    "# Save data to a CSV file\n",
    "df = pd.DataFrame(data, columns=[\"Team 1\", \"Team 2\", \"Winner\", \"Margin\"])\n",
    "df.to_csv(\"cricket_results_2020.csv\", index=False)\n",
    "\n",
    "print(\"Scraping completed! Data saved to cricket_results_2021.csv.\")"
   ]
  },
  {
   "cell_type": "code",
   "execution_count": 49,
   "id": "de44b92f-5998-42a9-8147-a0234a3ed606",
   "metadata": {},
   "outputs": [
    {
     "name": "stdout",
     "output_type": "stream",
     "text": [
      "Scraping completed! Data saved to cricket_results_2021.csv.\n"
     ]
    }
   ],
   "source": [
    "from selenium import webdriver\n",
    "from selenium.webdriver.common.by import By\n",
    "import pandas as pd\n",
    "import time\n",
    "\n",
    "# Initialize WebDriver\n",
    "driver = webdriver.Chrome()\n",
    "driver.get(\"https://www.espncricinfo.com/records/season/team-match-results/2021-2021?trophy=117\")\n",
    "time.sleep(5)  # Wait for the page to load\n",
    "\n",
    "# Locate table rows\n",
    "rows = driver.find_elements(By.XPATH, \"//table[contains(@class, 'ds-w-full')]//tbody/tr\")\n",
    "\n",
    "data = []\n",
    "for row in rows:\n",
    "    cols = row.find_elements(By.TAG_NAME, \"td\")\n",
    "    if len(cols) >= 4:\n",
    "        data.append([col.text.strip() for col in cols[:4]])\n",
    "\n",
    "# Close the driver\n",
    "driver.quit()\n",
    "\n",
    "# Save data to a CSV file\n",
    "df = pd.DataFrame(data, columns=[\"Team 1\", \"Team 2\", \"Winner\", \"Margin\"])\n",
    "df.to_csv(\"cricket_results_2021.csv\", index=False)\n",
    "\n",
    "print(\"Scraping completed! Data saved to cricket_results_2021.csv.\")"
   ]
  },
  {
   "cell_type": "code",
   "execution_count": 51,
   "id": "bc71ecc8-fe92-4f85-b49b-c359dd708535",
   "metadata": {},
   "outputs": [
    {
     "name": "stdout",
     "output_type": "stream",
     "text": [
      "Scraping completed! Data saved to cricket_results_2023.csv.\n"
     ]
    }
   ],
   "source": [
    "from selenium import webdriver\n",
    "from selenium.webdriver.common.by import By\n",
    "import pandas as pd\n",
    "import time\n",
    "\n",
    "# Initialize WebDriver\n",
    "driver = webdriver.Chrome()\n",
    "driver.get(\"https://www.espncricinfo.com/records/season/team-match-results/2023-2023?trophy=117\")\n",
    "time.sleep(5)  # Wait for the page to load\n",
    "\n",
    "# Locate table rows\n",
    "rows = driver.find_elements(By.XPATH, \"//table[contains(@class, 'ds-w-full')]//tbody/tr\")\n",
    "\n",
    "data = []\n",
    "for row in rows:\n",
    "    cols = row.find_elements(By.TAG_NAME, \"td\")\n",
    "    if len(cols) >= 4:\n",
    "        data.append([col.text.strip() for col in cols[:4]])\n",
    "\n",
    "# Close the driver\n",
    "driver.quit()\n",
    "\n",
    "# Save data to a CSV file\n",
    "df = pd.DataFrame(data, columns=[\"Team 1\", \"Team 2\", \"Winner\", \"Margin\"])\n",
    "df.to_csv(\"cricket_results_2023.csv\", index=False)\n",
    "\n",
    "print(\"Scraping completed! Data saved to cricket_results_2023.csv.\")"
   ]
  },
  {
   "cell_type": "code",
   "execution_count": 14,
   "id": "da0a91dc-fca7-428e-918e-10f8cc56bdb5",
   "metadata": {},
   "outputs": [
    {
     "name": "stdout",
     "output_type": "stream",
     "text": [
      "Scraping completed! Data saved to cricket_results_2022.csv.\n"
     ]
    }
   ],
   "source": [
    "from selenium import webdriver\n",
    "from selenium.webdriver.common.by import By\n",
    "import pandas as pd\n",
    "import time\n",
    "\n",
    "# Initialize WebDriver\n",
    "driver = webdriver.Chrome()\n",
    "driver.get(\"https://www.espncricinfo.com/records/season/team-match-results/2022-2022?trophy=117\")\n",
    "time.sleep(5)  # Wait for the page to load\n",
    "\n",
    "# Locate table rows\n",
    "rows = driver.find_elements(By.XPATH, \"//table[contains(@class, 'ds-w-full')]//tbody/tr\")\n",
    "\n",
    "data = []\n",
    "for row in rows:\n",
    "    cols = row.find_elements(By.TAG_NAME, \"td\")\n",
    "    if len(cols) >= 4:\n",
    "        data.append([col.text.strip() for col in cols[:4]])\n",
    "\n",
    "# Close the driver\n",
    "driver.quit()\n",
    "\n",
    "# Save data to a CSV file\n",
    "df = pd.DataFrame(data, columns=[\"Team 1\", \"Team 2\", \"Winner\", \"Margin\"])\n",
    "df.to_csv(\"cricket_results_2022.csv\", index=False)\n",
    "\n",
    "print(\"Scraping completed! Data saved to cricket_results_2022.csv.\")"
   ]
  },
  {
   "cell_type": "code",
   "execution_count": 15,
   "id": "adeeab7a-54f8-4d55-a064-069a80c47176",
   "metadata": {},
   "outputs": [
    {
     "name": "stdout",
     "output_type": "stream",
     "text": [
      "Scraping completed! Data saved to cricket_result_most_runs.csv.\n"
     ]
    }
   ],
   "source": [
    "from selenium import webdriver\n",
    "from selenium.webdriver.common.by import By\n",
    "import pandas as pd\n",
    "import time\n",
    "\n",
    "# Initialize WebDriver\n",
    "driver = webdriver.Chrome()\n",
    "driver.get(\"https://www.espncricinfo.com/records/trophy/batting-most-runs-career/indian-premier-league-117\")\n",
    "time.sleep(5)  # Wait for the page to load\n",
    "\n",
    "# Locate table rows\n",
    "rows = driver.find_elements(By.XPATH, \"//table[contains(@class, 'ds-w-full')]//tbody/tr\")\n",
    "\n",
    "data = []\n",
    "for row in rows:\n",
    "    cols = row.find_elements(By.TAG_NAME, \"td\")\n",
    "    if len(cols) >= 6:\n",
    "        data.append([col.text.strip() for col in cols[:6]])\n",
    "\n",
    "# Close the driver\n",
    "driver.quit()\n",
    "\n",
    "# Save data to a CSV file\n",
    "df = pd.DataFrame(data, columns=[\"player\", \"span\", \"mat\", \"inns\", \"NO\", \"Runs\"])\n",
    "df.to_csv(\"cricket_results_most_runs.csv\", index=False)\n",
    "\n",
    "print(\"Scraping completed! Data saved to cricket_result_most_runs.csv.\")"
   ]
  },
  {
   "cell_type": "code",
   "execution_count": 17,
   "id": "d5d7ce1e-806b-4504-af92-410a7093680e",
   "metadata": {},
   "outputs": [
    {
     "name": "stdout",
     "output_type": "stream",
     "text": [
      "Scraping completed! Data saved to cricket_result_most_wkts.csv.\n"
     ]
    }
   ],
   "source": [
    "from selenium import webdriver\n",
    "from selenium.webdriver.common.by import By\n",
    "import pandas as pd\n",
    "import time\n",
    "\n",
    "# Initialize WebDriver\n",
    "driver = webdriver.Chrome()\n",
    "driver.get(\"https://www.espncricinfo.com/records/trophy/bowling-most-wickets-career/indian-premier-league-117\")\n",
    "time.sleep(5)  # Wait for the page to load\n",
    "\n",
    "# Locate table rows\n",
    "rows = driver.find_elements(By.XPATH, \"//table[contains(@class, 'ds-w-full')]//tbody/tr\")\n",
    "\n",
    "data = []\n",
    "for row in rows:\n",
    "    cols = row.find_elements(By.TAG_NAME, \"td\")\n",
    "    if len(cols) >= 9:\n",
    "        data.append([col.text.strip() for col in cols[:9]])\n",
    "\n",
    "# Close the driver\n",
    "driver.quit()\n",
    "\n",
    "# Save data to a CSV file\n",
    "df = pd.DataFrame(data, columns=[\"player\", \"span\", \"mat\", \"inns\", \"balls\", \"overs\", \"mdns\", \"runs\", \"Wkts\"])\n",
    "df.to_csv(\"cricket_results_most_wkts.csv\", index=False)\n",
    "\n",
    "print(\"Scraping completed! Data saved to cricket_result_most_wkts.csv.\")"
   ]
  },
  {
   "cell_type": "code",
   "execution_count": 53,
   "id": "24509f15-c6b7-45f4-90f0-fee86a6ee20e",
   "metadata": {},
   "outputs": [
    {
     "name": "stdout",
     "output_type": "stream",
     "text": [
      "Scraping completed! Data saved to cricket_result_most_catches.csv.\n"
     ]
    }
   ],
   "source": [
    "from selenium import webdriver\n",
    "from selenium.webdriver.common.by import By\n",
    "import pandas as pd\n",
    "import time\n",
    "\n",
    "# Initialize WebDriver\n",
    "driver = webdriver.Chrome()\n",
    "driver.get(\"https://www.espncricinfo.com/records/trophy/fielding-most-catches-career/indian-premier-league-117\")\n",
    "time.sleep(5)  # Wait for the page to load\n",
    "\n",
    "# Locate table rows\n",
    "rows = driver.find_elements(By.XPATH, \"//table[contains(@class, 'ds-w-full')]//tbody/tr\")\n",
    "\n",
    "data = []\n",
    "for row in rows:\n",
    "    cols = row.find_elements(By.TAG_NAME, \"td\")\n",
    "    if len(cols) >= 5:\n",
    "        data.append([col.text.strip() for col in cols[:5]])\n",
    "\n",
    "# Close the driver\n",
    "driver.quit()\n",
    "\n",
    "# Save data to a CSV file\n",
    "df = pd.DataFrame(data, columns=[\"player\", \"span\", \"mat\", \"inns\", \"ct\"])\n",
    "df.to_csv(\"cricket_results_most_catches.csv\", index=False)\n",
    "\n",
    "print(\"Scraping completed! Data saved to cricket_result_most_catches.csv.\")"
   ]
  },
  {
   "cell_type": "code",
   "execution_count": 23,
   "id": "39bf9b81-37bd-4158-96b8-a6504a6739e3",
   "metadata": {},
   "outputs": [
    {
     "name": "stdout",
     "output_type": "stream",
     "text": [
      "Scraping completed! Data saved to highest_avg.csv.\n"
     ]
    }
   ],
   "source": [
    "from selenium import webdriver\n",
    "from selenium.webdriver.common.by import By\n",
    "import pandas as pd\n",
    "import time\n",
    "\n",
    "# Initialize WebDriver\n",
    "driver = webdriver.Chrome()\n",
    "driver.get(\"https://www.espncricinfo.com/records/trophy/batting-highest-career-batting-average/indian-premier-league-117\")\n",
    "time.sleep(5)  # Wait for the page to load\n",
    "\n",
    "# Locate table rows\n",
    "rows = driver.find_elements(By.XPATH, \"//table[contains(@class, 'ds-w-full')]//tbody/tr\")\n",
    "\n",
    "data = []\n",
    "for row in rows:\n",
    "    cols = row.find_elements(By.TAG_NAME, \"td\")\n",
    "    if len(cols) >= 8:\n",
    "        data.append([col.text.strip() for col in cols[:8]])\n",
    "\n",
    "# Close the driver\n",
    "driver.quit()\n",
    "\n",
    "# Save data to a CSV file\n",
    "df = pd.DataFrame(data, columns=[\"Player\",\"Span\",\"Mat\",\"Inns\",\"NO\",\"Runs\",\"HS\",\"Ave\"])\n",
    "df.to_csv(\"highest_avg.csv\", index=False)\n",
    "\n",
    "print(\"Scraping completed! Data saved to highest_avg.csv.\")"
   ]
  },
  {
   "cell_type": "code",
   "execution_count": 21,
   "id": "515d64f9-1b08-477c-9c0b-1e29eb4a8a34",
   "metadata": {},
   "outputs": [
    {
     "name": "stdout",
     "output_type": "stream",
     "text": [
      "Scraping completed! Data saved to highest_ducks.csv.\n"
     ]
    }
   ],
   "source": [
    "from selenium import webdriver\n",
    "from selenium.webdriver.common.by import By\n",
    "import pandas as pd\n",
    "import time\n",
    "\n",
    "# Initialize WebDriver\n",
    "driver = webdriver.Chrome()\n",
    "driver.get(\"https://www.espncricinfo.com/records/trophy/batting-most-ducks-career/indian-premier-league-117\")\n",
    "time.sleep(5)  # Wait for the page to load\n",
    "\n",
    "# Locate table rows\n",
    "rows = driver.find_elements(By.XPATH, \"//table[contains(@class, 'ds-w-full')]//tbody/tr\")\n",
    "\n",
    "data = []\n",
    "for row in rows:\n",
    "    cols = row.find_elements(By.TAG_NAME, \"td\")\n",
    "    if len(cols) >= 8:\n",
    "        data.append([col.text.strip() for col in cols[:8]])\n",
    "\n",
    "# Close the driver\n",
    "driver.quit()\n",
    "\n",
    "# Save data to a CSV file\n",
    "df = pd.DataFrame(data, columns=[\"Player\",\"Span\",\"Mat\",\"Inns\",\"NO\",\"Runs\",\"HS\",\"Ave\"])\n",
    "df.to_csv(\"highest_ducks.csv\", index=False)\n",
    "\n",
    "print(\"Scraping completed! Data saved to highest_ducks.csv.\")"
   ]
  },
  {
   "cell_type": "code",
   "execution_count": 15,
   "id": "18241a63-488a-4891-8fb2-a8b0c31c61e7",
   "metadata": {},
   "outputs": [
    {
     "name": "stdout",
     "output_type": "stream",
     "text": [
      "Scraping completed! Data saved to highest_dissmissal.csv.\n"
     ]
    }
   ],
   "source": [
    "from selenium import webdriver\n",
    "from selenium.webdriver.common.by import By\n",
    "import pandas as pd\n",
    "import time\n",
    "\n",
    "# Initialize WebDriver\n",
    "driver = webdriver.Chrome()\n",
    "driver.get(\"https://www.espncricinfo.com/records/trophy/keeping-most-dismissals-career/indian-premier-league-117\")\n",
    "time.sleep(5)  # Wait for the page to load\n",
    "\n",
    "# Locate table rows\n",
    "rows = driver.find_elements(By.XPATH, \"//table[contains(@class, 'ds-w-full')]//tbody/tr\")\n",
    "\n",
    "data = []\n",
    "for row in rows:\n",
    "    cols = row.find_elements(By.TAG_NAME, \"td\")\n",
    "    if len(cols) >= 5:\n",
    "        data.append([col.text.strip() for col in cols[:5]])\n",
    "\n",
    "# Close the driver\n",
    "driver.quit()\n",
    "\n",
    "# Save data to a CSV file\n",
    "df = pd.DataFrame(data, columns=[\"Player\",\"Span\",\"Mat\",\"Inns\",\"Dismissed\"])\n",
    "df.to_csv(\"highest_dissmissal.csv\", index=False)\n",
    "\n",
    "print(\"Scraping completed! Data saved to highest_dissmissal.csv.\")"
   ]
  },
  {
   "cell_type": "code",
   "execution_count": 9,
   "id": "1447a72c-325c-4098-bf99-8a9296b275bf",
   "metadata": {},
   "outputs": [
    {
     "name": "stdout",
     "output_type": "stream",
     "text": [
      "Current working directory: C:\\Users\\Dell\\live project webscrap\n"
     ]
    }
   ],
   "source": [
    "import os\n",
    "print(\"Current working directory:\", os.getcwd())\n"
   ]
  },
  {
   "cell_type": "code",
   "execution_count": 23,
   "id": "33941898-0847-493a-895d-273e2e14fde1",
   "metadata": {},
   "outputs": [
    {
     "name": "stdout",
     "output_type": "stream",
     "text": [
      "Scraping completed! Data saved to highest_strikes.csv.\n"
     ]
    }
   ],
   "source": [
    "from selenium import webdriver\n",
    "from selenium.webdriver.common.by import By\n",
    "import pandas as pd\n",
    "import time\n",
    "\n",
    "# Initialize WebDriver\n",
    "driver = webdriver.Chrome()\n",
    "driver.get(\"https://www.espncricinfo.com/records/tournament/bowling-best-career-strike-rate/indian-premier-league-2025-16622\")\n",
    "time.sleep(5)  # Wait for the page to load\n",
    "\n",
    "# Locate table rows\n",
    "rows = driver.find_elements(By.XPATH, \"//table[contains(@class, 'ds-w-full')]//tbody/tr\")\n",
    "\n",
    "data = []\n",
    "for row in rows:\n",
    "    cols = row.find_elements(By.TAG_NAME, \"td\")\n",
    "    if len(cols) >= 8:\n",
    "        data.append([col.text.strip() for col in cols[:8]])\n",
    "\n",
    "# Close the driver\n",
    "driver.quit()\n",
    "\n",
    "# Save data to a CSV file\n",
    "df = pd.DataFrame(data, columns=[\"Player\",\"Span\",\"Mat\",\"overs\",\"mdns\",\"balls\",\"runs\",\"wkts\"])\n",
    "df.to_csv(\"highest_strikes.csv\", index=False)\n",
    "\n",
    "print(\"Scraping completed! Data saved to highest_strikes.csv.\")"
   ]
  },
  {
   "cell_type": "code",
   "execution_count": 24,
   "id": "582d0f62-7df4-43a8-8989-65df359ec5e8",
   "metadata": {},
   "outputs": [
    {
     "name": "stdout",
     "output_type": "stream",
     "text": [
      "Scraping completed! Data saved to CSK.csv.\n"
     ]
    }
   ],
   "source": [
    "from selenium import webdriver\n",
    "from selenium.webdriver.common.by import By\n",
    "import pandas as pd\n",
    "import time\n",
    "\n",
    "# Initialize WebDriver\n",
    "driver = webdriver.Chrome()\n",
    "driver.get(\"https://www.espncricinfo.com/records/tournament/averages-batting-bowling-by-team/indian-premier-league-2025-16622?team=4343\")\n",
    "time.sleep(5)  # Wait for the page to load\n",
    "\n",
    "# Locate table rows\n",
    "rows = driver.find_elements(By.XPATH, \"//table[contains(@class, 'ds-w-full')]//tbody/tr\")\n",
    "\n",
    "data = []\n",
    "for row in rows:\n",
    "    cols = row.find_elements(By.TAG_NAME, \"td\")\n",
    "    if len(cols) >= 7:\n",
    "        data.append([col.text.strip() for col in cols[:7]])\n",
    "\n",
    "# Close the driver\n",
    "driver.quit()\n",
    "\n",
    "# Save data to a CSV file\n",
    "df = pd.DataFrame(data, columns=[\"Player\",\"Mat\",\"inns\",\"NO\",\"runs\",\"BF\",\"HS\"])\n",
    "df.to_csv(\"CSK.csv\", index=False)\n",
    "\n",
    "print(\"Scraping completed! Data saved to CSK.csv.\")"
   ]
  },
  {
   "cell_type": "code",
   "execution_count": 27,
   "id": "f5bd3f3e-85fc-4702-932b-5c14c60043c1",
   "metadata": {},
   "outputs": [
    {
     "name": "stdout",
     "output_type": "stream",
     "text": [
      "Scraping completed! Data saved to DELHI_CAPITALS.csv.\n"
     ]
    }
   ],
   "source": [
    "from selenium import webdriver\n",
    "from selenium.webdriver.common.by import By\n",
    "import pandas as pd\n",
    "import time\n",
    "\n",
    "# Initialize WebDriver\n",
    "driver = webdriver.Chrome()\n",
    "driver.get(\"https://www.espncricinfo.com/records/tournament/averages-batting-bowling-by-team/indian-premier-league-2025-16622?team=4344\")\n",
    "time.sleep(5)  # Wait for the page to load\n",
    "\n",
    "# Locate table rows\n",
    "rows = driver.find_elements(By.XPATH, \"//table[contains(@class, 'ds-w-full')]//tbody/tr\")\n",
    "\n",
    "data = []\n",
    "for row in rows:\n",
    "    cols = row.find_elements(By.TAG_NAME, \"td\")\n",
    "    if len(cols) >= 7:\n",
    "        data.append([col.text.strip() for col in cols[:7]])\n",
    "\n",
    "# Close the driver\n",
    "driver.quit()\n",
    "\n",
    "# Save data to a CSV file\n",
    "df = pd.DataFrame(data, columns=[\"Player\",\"Mat\",\"inns\",\"NO\",\"runs\",\"BF\",\"HS\"])\n",
    "df.to_csv(\"DELHI_CAPITALS.csv\", index=False)\n",
    "\n",
    "print(\"Scraping completed! Data saved to DELHI_CAPITALS.csv.\")"
   ]
  },
  {
   "cell_type": "code",
   "execution_count": 29,
   "id": "2a6fb37e-6cce-4352-bdf4-9b9dc8168d0b",
   "metadata": {},
   "outputs": [
    {
     "name": "stdout",
     "output_type": "stream",
     "text": [
      "Scraping completed! Data saved to GujaratTitans.csv.\n"
     ]
    }
   ],
   "source": [
    "from selenium import webdriver\n",
    "from selenium.webdriver.common.by import By\n",
    "import pandas as pd\n",
    "import time\n",
    "\n",
    "# Initialize WebDriver\n",
    "driver = webdriver.Chrome()\n",
    "driver.get(\"https://www.espncricinfo.com/records/tournament/averages-batting-bowling-by-team/indian-premier-league-2025-16622?team=6904\")\n",
    "time.sleep(5)  # Wait for the page to load\n",
    "\n",
    "# Locate table rows\n",
    "rows = driver.find_elements(By.XPATH, \"//table[contains(@class, 'ds-w-full')]//tbody/tr\")\n",
    "\n",
    "data = []\n",
    "for row in rows:\n",
    "    cols = row.find_elements(By.TAG_NAME, \"td\")\n",
    "    if len(cols) >= 7:\n",
    "        data.append([col.text.strip() for col in cols[:7]])\n",
    "\n",
    "# Close the driver\n",
    "driver.quit()\n",
    "# Save data to a CSV file\n",
    "df = pd.DataFrame(data, columns=[\"Player\",\"Mat\",\"inns\",\"NO\",\"runs\",\"BF\",\"HS\"])\n",
    "df.to_csv(\"GujaratTitans.csv\", index=False)\n",
    "\n",
    "print(\"Scraping completed! Data saved to GujaratTitans.csv.\")"
   ]
  },
  {
   "cell_type": "code",
   "execution_count": 31,
   "id": "835579cc-797c-4a94-9f24-374a24d79a6f",
   "metadata": {},
   "outputs": [
    {
     "name": "stdout",
     "output_type": "stream",
     "text": [
      "Scraping completed! Data saved to KKR.csv.\n"
     ]
    }
   ],
   "source": [
    "from selenium import webdriver\n",
    "from selenium.webdriver.common.by import By\n",
    "import pandas as pd\n",
    "import time\n",
    "\n",
    "# Initialize WebDriver\n",
    "driver = webdriver.Chrome()\n",
    "driver.get(\"https://www.espncricinfo.com/records/tournament/averages-batting-bowling-by-team/indian-premier-league-2025-16622?team=4341\")\n",
    "time.sleep(5)  # Wait for the page to load\n",
    "\n",
    "# Locate table rows\n",
    "rows = driver.find_elements(By.XPATH, \"//table[contains(@class, 'ds-w-full')]//tbody/tr\")\n",
    "\n",
    "data = []\n",
    "for row in rows:\n",
    "    cols = row.find_elements(By.TAG_NAME, \"td\")\n",
    "    if len(cols) >= 7:\n",
    "        data.append([col.text.strip() for col in cols[:7]])\n",
    "\n",
    "# Close the driver\n",
    "driver.quit()\n",
    "# Save data to a CSV file\n",
    "df = pd.DataFrame(data, columns=[\"Player\",\"Mat\",\"inns\",\"NO\",\"runs\",\"BF\",\"HS\"])\n",
    "df.to_csv(\"KKR.csv\", index=False)\n",
    "\n",
    "print(\"Scraping completed! Data saved to KKR.csv.\")"
   ]
  },
  {
   "cell_type": "code",
   "execution_count": 32,
   "id": "e0a88e9f-770d-4d02-9b9f-c414809524c2",
   "metadata": {},
   "outputs": [
    {
     "name": "stdout",
     "output_type": "stream",
     "text": [
      "Scraping completed! Data saved to LSG.csv.\n"
     ]
    }
   ],
   "source": [
    "from selenium import webdriver\n",
    "from selenium.webdriver.common.by import By\n",
    "import pandas as pd\n",
    "import time\n",
    "\n",
    "# Initialize WebDriver\n",
    "driver = webdriver.Chrome()\n",
    "driver.get(\"https://www.espncricinfo.com/records/tournament/averages-batting-bowling-by-team/indian-premier-league-2025-16622?team=6903\")\n",
    "time.sleep(5)  # Wait for the page to load\n",
    "\n",
    "# Locate table rows\n",
    "rows = driver.find_elements(By.XPATH, \"//table[contains(@class, 'ds-w-full')]//tbody/tr\")\n",
    "\n",
    "data = []\n",
    "for row in rows:\n",
    "    cols = row.find_elements(By.TAG_NAME, \"td\")\n",
    "    if len(cols) >= 7:\n",
    "        data.append([col.text.strip() for col in cols[:7]])\n",
    "\n",
    "# Close the driver\n",
    "driver.quit()\n",
    "# Save data to a CSV file\n",
    "df = pd.DataFrame(data, columns=[\"Player\",\"Mat\",\"inns\",\"NO\",\"runs\",\"BF\",\"HS\"])\n",
    "df.to_csv(\"LSG.csv\", index=False)\n",
    "\n",
    "print(\"Scraping completed! Data saved to LSG.csv.\")"
   ]
  },
  {
   "cell_type": "code",
   "execution_count": 35,
   "id": "c65a3840-d698-4a4d-bc3f-c212bc8dfbb4",
   "metadata": {},
   "outputs": [
    {
     "name": "stdout",
     "output_type": "stream",
     "text": [
      "Scraping completed! Data saved to MUMBAI_INDIANS.csv.\n"
     ]
    }
   ],
   "source": [
    "from selenium import webdriver\n",
    "from selenium.webdriver.common.by import By\n",
    "import pandas as pd\n",
    "import time\n",
    "\n",
    "# Initialize WebDriver\n",
    "driver = webdriver.Chrome()\n",
    "driver.get(\"https://www.espncricinfo.com/records/tournament/averages-batting-bowling-by-team/indian-premier-league-2025-16622?team=4346\")\n",
    "time.sleep(5)  # Wait for the page to load\n",
    "\n",
    "# Locate table rows\n",
    "rows = driver.find_elements(By.XPATH, \"//table[contains(@class, 'ds-w-full')]//tbody/tr\")\n",
    "\n",
    "data = []\n",
    "for row in rows:\n",
    "    cols = row.find_elements(By.TAG_NAME, \"td\")\n",
    "    if len(cols) >= 7:\n",
    "        data.append([col.text.strip() for col in cols[:7]])\n",
    "\n",
    "# Close the driver\n",
    "driver.quit()\n",
    "# Save data to a CSV file\n",
    "df = pd.DataFrame(data, columns=[\"Player\",\"Mat\",\"inns\",\"NO\",\"runs\",\"BF\",\"HS\"])\n",
    "df.to_csv(\"MUMBAI_INDIANS.csv\", index=False)\n",
    "\n",
    "print(\"Scraping completed! Data saved to MUMBAI_INDIANS.csv.\")"
   ]
  },
  {
   "cell_type": "code",
   "execution_count": 36,
   "id": "ca153a3b-53b0-4d38-8a05-5780fe17f6a2",
   "metadata": {},
   "outputs": [
    {
     "name": "stdout",
     "output_type": "stream",
     "text": [
      "Scraping completed! Data saved to PKBS.csv.\n"
     ]
    }
   ],
   "source": [
    "from selenium import webdriver\n",
    "from selenium.webdriver.common.by import By\n",
    "import pandas as pd\n",
    "import time\n",
    "\n",
    "# Initialize WebDriver\n",
    "driver = webdriver.Chrome()\n",
    "driver.get(\"https://www.espncricinfo.com/records/tournament/averages-batting-bowling-by-team/indian-premier-league-2025-16622?team=4342\")\n",
    "time.sleep(5)  # Wait for the page to load\n",
    "\n",
    "# Locate table rows\n",
    "rows = driver.find_elements(By.XPATH, \"//table[contains(@class, 'ds-w-full')]//tbody/tr\")\n",
    "\n",
    "data = []\n",
    "for row in rows:\n",
    "    cols = row.find_elements(By.TAG_NAME, \"td\")\n",
    "    if len(cols) >= 7:\n",
    "        data.append([col.text.strip() for col in cols[:7]])\n",
    "\n",
    "# Close the driver\n",
    "driver.quit()\n",
    "# Save data to a CSV file\n",
    "df = pd.DataFrame(data, columns=[\"Player\",\"Mat\",\"inns\",\"NO\",\"runs\",\"BF\",\"HS\"])\n",
    "df.to_csv(\"PKBS.csv\", index=False)\n",
    "\n",
    "print(\"Scraping completed! Data saved to PKBS.csv.\")"
   ]
  },
  {
   "cell_type": "code",
   "execution_count": 39,
   "id": "34955e3b-98a4-4d5c-875b-4f71ffc4eae9",
   "metadata": {},
   "outputs": [
    {
     "name": "stdout",
     "output_type": "stream",
     "text": [
      "Scraping completed! Data saved to Rajasthan_royals.csv.\n"
     ]
    }
   ],
   "source": [
    "from selenium import webdriver\n",
    "from selenium.webdriver.common.by import By\n",
    "import pandas as pd\n",
    "import time\n",
    "\n",
    "# Initialize WebDriver\n",
    "driver = webdriver.Chrome()\n",
    "driver.get(\"https://www.espncricinfo.com/records/tournament/averages-batting-bowling-by-team/indian-premier-league-2025-16622?team=4345\")\n",
    "time.sleep(5)  # Wait for the page to load\n",
    "\n",
    "# Locate table rows\n",
    "rows = driver.find_elements(By.XPATH, \"//table[contains(@class, 'ds-w-full')]//tbody/tr\")\n",
    "\n",
    "data = []\n",
    "for row in rows:\n",
    "    cols = row.find_elements(By.TAG_NAME, \"td\")\n",
    "    if len(cols) >= 7:\n",
    "        data.append([col.text.strip() for col in cols[:7]])\n",
    "\n",
    "# Close the driver\n",
    "driver.quit()\n",
    "# Save data to a CSV file\n",
    "df = pd.DataFrame(data, columns=[\"Player\",\"Mat\",\"inns\",\"NO\",\"runs\",\"BF\",\"HS\"])\n",
    "df.to_csv(\"Rajasthan_royals.csv\", index=False)\n",
    "\n",
    "print(\"Scraping completed! Data saved to Rajasthan_royals.csv.\")"
   ]
  },
  {
   "cell_type": "code",
   "execution_count": 40,
   "id": "1291f8c8-c872-4b25-92ec-390663aa40d6",
   "metadata": {},
   "outputs": [
    {
     "name": "stdout",
     "output_type": "stream",
     "text": [
      "Scraping completed! Data saved to RCB.csv.\n"
     ]
    }
   ],
   "source": [
    "from selenium import webdriver\n",
    "from selenium.webdriver.common.by import By\n",
    "import pandas as pd\n",
    "import time\n",
    "\n",
    "# Initialize WebDriver\n",
    "driver = webdriver.Chrome()\n",
    "driver.get(\"https://www.espncricinfo.com/records/tournament/averages-batting-bowling-by-team/indian-premier-league-2025-16622?team=4340\")\n",
    "time.sleep(5)  # Wait for the page to load\n",
    "\n",
    "# Locate table rows\n",
    "rows = driver.find_elements(By.XPATH, \"//table[contains(@class, 'ds-w-full')]//tbody/tr\")\n",
    "\n",
    "data = []\n",
    "for row in rows:\n",
    "    cols = row.find_elements(By.TAG_NAME, \"td\")\n",
    "    if len(cols) >= 7:\n",
    "        data.append([col.text.strip() for col in cols[:7]])\n",
    "\n",
    "# Close the driver\n",
    "driver.quit()\n",
    "# Save data to a CSV file\n",
    "df = pd.DataFrame(data, columns=[\"Player\",\"Mat\",\"inns\",\"NO\",\"runs\",\"BF\",\"HS\"])\n",
    "df.to_csv(\"RCB.csv\", index=False)\n",
    "\n",
    "print(\"Scraping completed! Data saved to RCB.csv.\")"
   ]
  },
  {
   "cell_type": "code",
   "execution_count": null,
   "id": "5dee101f-2ce0-4a69-8494-527256a01743",
   "metadata": {},
   "outputs": [],
   "source": [
    "from selenium import webdriver\n",
    "from selenium.webdriver.common.by import By\n",
    "import pandas as pd\n",
    "import time\n",
    "\n",
    "# Initialize WebDriver\n",
    "driver = webdriver.Chrome()\n",
    "driver.get(\"https://www.espncricinfo.com/records/tournament/averages-batting-bowling-by-team/indian-premier-league-2025-16622?team=5143\")\n",
    "time.sleep(5)  # Wait for the page to load\n",
    "\n",
    "# Locate table rows\n",
    "rows = driver.find_elements(By.XPATH, \"//table[contains(@class, 'ds-w-full')]//tbody/tr\")\n",
    "\n",
    "data = []\n",
    "for row in rows:\n",
    "    cols = row.find_elements(By.TAG_NAME, \"td\")\n",
    "    if len(cols) >= 7:\n",
    "        data.append([col.text.strip() for col in cols[:7]])\n",
    "\n",
    "# Close the driver\n",
    "driver.quit()\n",
    "# Save data to a CSV file\n",
    "df = pd.DataFrame(data, columns=[\"Player\",\"Mat\",\"inns\",\"NO\",\"runs\",\"BF\",\"HS\"])\n",
    "df.to_csv(\"SRH.csv\", index=False)\n",
    "\n",
    "print(\"Scraping completed! Data saved to SRH.csv.\")"
   ]
  },
  {
   "cell_type": "code",
   "execution_count": null,
   "id": "602ab6fe-8a41-4bd5-8be5-b6cca3123cc7",
   "metadata": {},
   "outputs": [],
   "source": []
  }
 ],
 "metadata": {
  "kernelspec": {
   "display_name": "Python [conda env:base] *",
   "language": "python",
   "name": "conda-base-py"
  },
  "language_info": {
   "codemirror_mode": {
    "name": "ipython",
    "version": 3
   },
   "file_extension": ".py",
   "mimetype": "text/x-python",
   "name": "python",
   "nbconvert_exporter": "python",
   "pygments_lexer": "ipython3",
   "version": "3.12.7"
  }
 },
 "nbformat": 4,
 "nbformat_minor": 5
}
